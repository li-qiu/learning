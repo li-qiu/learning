{
 "cells": [
  {
   "cell_type": "markdown",
   "metadata": {},
   "source": [
    "### Logistic Regression\n",
    "For a first pass at Logistic Regression, we will run it on some simulated data that we create.\n",
    "\n",
    "This is useful to see how well Logistic Regression performs in a situation\n",
    "where we know what the answer should be."
   ]
  },
  {
   "cell_type": "code",
   "execution_count": 1,
   "metadata": {
    "collapsed": false
   },
   "outputs": [],
   "source": [
    "import numpy as np\n",
    "import pandas as pd\n",
    "import matplotlib.pyplot as plt\n",
    "\n",
    "%matplotlib inline\n",
    "\n",
    "from sklearn.model_selection import train_test_split\n",
    "from sklearn.linear_model import LogisticRegression"
   ]
  },
  {
   "cell_type": "code",
   "execution_count": 2,
   "metadata": {
    "collapsed": true
   },
   "outputs": [],
   "source": [
    "# We will create some fake data\n",
    "\n",
    "num_trials = 10000\n",
    "np.random.seed(seed = 142)"
   ]
  },
  {
   "cell_type": "code",
   "execution_count": 3,
   "metadata": {
    "collapsed": false
   },
   "outputs": [
    {
     "data": {
      "text/plain": [
       "array([5, 3, 4, 5, 1, 1, 5, 3, 3, 5, 5, 1, 1, 3, 4, 5, 4, 3, 5, 5, 5, 5, 1,\n",
       "       1, 5, 3, 5, 5, 3, 3, 5, 3, 5, 3, 1, 5, 5, 5, 5, 3, 1, 5, 5, 3, 1, 1,\n",
       "       1, 1, 5, 3, 3, 3, 3, 3, 1, 5, 3, 2, 3, 5, 3, 2, 3, 5, 3, 3, 3, 3, 5,\n",
       "       2, 5, 3, 2, 3, 3, 3, 3, 1, 3, 5, 5, 3, 5, 2, 1, 5, 4, 1, 4, 5, 1, 5,\n",
       "       5, 1, 3, 3, 3, 3, 5, 3])"
      ]
     },
     "execution_count": 3,
     "metadata": {},
     "output_type": "execute_result"
    }
   ],
   "source": [
    "# First we create a \"clean\" x variable\n",
    "# \"Clean\" in this case means that if we knew x_clean exactly, then the prob(y=1|x) would be fixed\n",
    "# The \"clean\" value of x is either 1,2,3,4, or 5\n",
    "# Each one corresponds to a particular probability which we will set below\n",
    "\n",
    "\n",
    "x_clean = np.random.choice(a=[1,2,3,4,5],p=[.2,.1,.3,.1,.3], size=num_trials)\n",
    "x_clean[:100]"
   ]
  },
  {
   "cell_type": "code",
   "execution_count": 4,
   "metadata": {
    "collapsed": false
   },
   "outputs": [],
   "source": [
    "# Now we create a \"noisy\" version of x.  This is the value we actually observe and learn from\n",
    "\n",
    "x_noisy = x_clean + np.random.normal(size=num_trials)#+np.random.uniform(size=num_trials)"
   ]
  },
  {
   "cell_type": "code",
   "execution_count": 5,
   "metadata": {
    "collapsed": false
   },
   "outputs": [
    {
     "data": {
      "text/plain": [
       "(array([ 2042.,     0.,  1002.,     0.,     0.,  2926.,     0.,  1002.,\n",
       "            0.,  3028.]),\n",
       " array([ 1. ,  1.4,  1.8,  2.2,  2.6,  3. ,  3.4,  3.8,  4.2,  4.6,  5. ]),\n",
       " <a list of 10 Patch objects>)"
      ]
     },
     "execution_count": 5,
     "metadata": {},
     "output_type": "execute_result"
    },
    {
     "data": {
      "image/png": "[encoded data removed]",
      "text/plain": [
       "<matplotlib.figure.Figure at 0x109f6fa58>"
      ]
     },
     "metadata": {},
     "output_type": "display_data"
    }
   ],
   "source": [
    "# Plot histograms of the two versions: X_clean and x_noisy \n",
    "# Just to understand them better\n",
    "\n",
    "plt.hist(x_noisy, bins=15, range = [-5,10])\n",
    "plt.hist(x_clean)"
   ]
  },
  {
   "cell_type": "code",
   "execution_count": 6,
   "metadata": {
    "collapsed": false
   },
   "outputs": [
    {
     "data": {
      "text/plain": [
       "array([ 0.01,  0.04,  0.09,  0.26,  0.4 ])"
      ]
     },
     "execution_count": 6,
     "metadata": {},
     "output_type": "execute_result"
    }
   ],
   "source": [
    "# Here we set the \"true probability\".  This will be unknown to us, but instead we will see realizations\n",
    "# of binary 0/1 variables based on these probabilities\n",
    "\n",
    "true_probs = (x_clean/10)**2  + .1*(x_clean>=4)+ .05*(x_clean>=5)\n",
    "real_prob_vec = np.unique(true_probs)\n",
    "real_prob_vec"
   ]
  },
  {
   "cell_type": "code",
   "execution_count": 7,
   "metadata": {
    "collapsed": true
   },
   "outputs": [],
   "source": [
    "# Generate our target y using the probabilities in \"true_probs\"\n",
    "\n",
    "y = np.random.binomial(n=1, p=true_probs, size=num_trials)"
   ]
  },
  {
   "cell_type": "code",
   "execution_count": 8,
   "metadata": {
    "collapsed": false
   },
   "outputs": [
    {
     "data": {
      "text/plain": [
       "0.17749999999999999"
      ]
     },
     "execution_count": 8,
     "metadata": {},
     "output_type": "execute_result"
    }
   ],
   "source": [
    "np.mean(y)"
   ]
  },
  {
   "cell_type": "code",
   "execution_count": 9,
   "metadata": {
    "collapsed": false
   },
   "outputs": [
    {
     "data": {
      "text/plain": [
       "(7000, 1)"
      ]
     },
     "execution_count": 9,
     "metadata": {},
     "output_type": "execute_result"
    }
   ],
   "source": [
    "# Divide into train and test sets\n",
    "\n",
    "X_train = x_noisy[:7000].reshape(-1,1)  #sklearn likes it better to have a 2-D array for X\n",
    "X_test = x_noisy[7000:].reshape(-1,1)\n",
    "y_train = y[:7000]\n",
    "y_test = y[7000:]\n",
    "\n",
    "X_train.shape"
   ]
  },
  {
   "cell_type": "code",
   "execution_count": 10,
   "metadata": {
    "collapsed": false
   },
   "outputs": [
    {
     "data": {
      "text/plain": [
       "LogisticRegression(C=1.0, class_weight=None, dual=False, fit_intercept=True,\n",
       "          intercept_scaling=1, max_iter=100, multi_class='ovr', n_jobs=1,\n",
       "          penalty='l2', random_state=None, solver='liblinear', tol=0.0001,\n",
       "          verbose=0, warm_start=False)"
      ]
     },
     "execution_count": 10,
     "metadata": {},
     "output_type": "execute_result"
    }
   ],
   "source": [
    "# Fit a default Logistic Regression Model\n",
    "## Note, unlike LinearRegression, the LogisticRegression automatically does a penalized regression\n",
    "\n",
    "\n",
    "lr_model_1 = LogisticRegression()\n",
    "lr_model_1.fit(X_train,y_train)"
   ]
  },
  {
   "cell_type": "code",
   "execution_count": 11,
   "metadata": {
    "collapsed": false
   },
   "outputs": [
    {
     "data": {
      "text/plain": [
       "array([[ 0.94967126,  0.05032874],\n",
       "       [ 0.95046901,  0.04953099],\n",
       "       [ 0.77172597,  0.22827403],\n",
       "       ..., \n",
       "       [ 0.78946898,  0.21053102],\n",
       "       [ 0.96633847,  0.03366153],\n",
       "       [ 0.77502759,  0.22497241]])"
      ]
     },
     "execution_count": 11,
     "metadata": {},
     "output_type": "execute_result"
    }
   ],
   "source": [
    "# Use the model to predict *Probabilities* for the test set\n",
    "\n",
    "y_prob_pred_mat = lr_model_1.predict_proba(X_test)\n",
    "y_prob_pred_mat"
   ]
  },
  {
   "cell_type": "code",
   "execution_count": 12,
   "metadata": {
    "collapsed": true
   },
   "outputs": [],
   "source": [
    "# what comes out of predict_proba is a matrix\n",
    "# for binary classification, we typically look at the probability of being 1\n",
    "# So we will take the second column (:1)\n",
    "y_prob_pred = y_prob_pred_mat[:,1]"
   ]
  },
  {
   "cell_type": "code",
   "execution_count": null,
   "metadata": {
    "collapsed": true
   },
   "outputs": [],
   "source": []
  },
  {
   "cell_type": "code",
   "execution_count": 13,
   "metadata": {
    "collapsed": false
   },
   "outputs": [
    {
     "data": {
      "text/plain": [
       "(array([ 434.,  630.,  417.,  242.,  218.,  158.,  132.,   91.,   48.,\n",
       "          34.,   15.,   10.,    2.,    2.,    0.,    0.,    0.,    0.,\n",
       "           0.,    0.]),\n",
       " array([ 0.  ,  0.05,  0.1 ,  0.15,  0.2 ,  0.25,  0.3 ,  0.35,  0.4 ,\n",
       "         0.45,  0.5 ,  0.55,  0.6 ,  0.65,  0.7 ,  0.75,  0.8 ,  0.85,\n",
       "         0.9 ,  0.95,  1.  ]),\n",
       " <a list of 20 Patch objects>)"
      ]
     },
     "execution_count": 13,
     "metadata": {},
     "output_type": "execute_result"
    },
    {
     "data": {
      "image/png": "[encoded data removed]",
      "text/plain": [
       "<matplotlib.figure.Figure at 0x1104fa6d8>"
      ]
     },
     "metadata": {},
     "output_type": "display_data"
    }
   ],
   "source": [
    "#Let's visualize - is there a difference in how we predict when the true answer is 1 versus 0?\n",
    "fig, ax = plt.subplots(2, 1, figsize=(10, 8))  # 2 Rows, 1 Col\n",
    "\n",
    "ax[0].hist(y_prob_pred[np.where(y_test==1)], bins=20, range=(0,1))\n",
    "ax[1].hist(y_prob_pred[np.where(y_test==0)], bins=20, range=(0,1))"
   ]
  },
  {
   "cell_type": "code",
   "execution_count": 14,
   "metadata": {
    "collapsed": true
   },
   "outputs": [],
   "source": [
    "## How \"good\" is this?\n",
    "## First, lets evaluate the log-likelihood\n",
    "## sklearn has a \"log_loss\" function which computes log-likelihood, negates it,\n",
    "## and then averages by the number of data points\n",
    "from sklearn.metrics import log_loss"
   ]
  },
  {
   "cell_type": "code",
   "execution_count": 15,
   "metadata": {
    "collapsed": false
   },
   "outputs": [
    {
     "data": {
      "text/plain": [
       "0.42308852639501532"
      ]
     },
     "execution_count": 15,
     "metadata": {},
     "output_type": "execute_result"
    }
   ],
   "source": [
    "log_loss(y_test,y_prob_pred)"
   ]
  },
  {
   "cell_type": "code",
   "execution_count": 16,
   "metadata": {
    "collapsed": false
   },
   "outputs": [
    {
     "data": {
      "text/plain": [
       "0.42308852639501532"
      ]
     },
     "execution_count": 16,
     "metadata": {},
     "output_type": "execute_result"
    }
   ],
   "source": [
    "## Alternatively, compute it yourself\n",
    "pred_prob_of_data = y_test*y_prob_pred + (1-y_test)*(1-y_prob_pred)\n",
    "np.mean(-np.log(pred_prob_of_data))"
   ]
  },
  {
   "cell_type": "code",
   "execution_count": 17,
   "metadata": {
    "collapsed": false
   },
   "outputs": [
    {
     "data": {
      "text/plain": [
       "[<matplotlib.lines.Line2D at 0x11053cf98>]"
      ]
     },
     "execution_count": 17,
     "metadata": {},
     "output_type": "execute_result"
    },
    {
     "data": {
      "image/png": "[encoded data removed]",
      "text/plain": [
       "<matplotlib.figure.Figure at 0x11054a710>"
      ]
     },
     "metadata": {},
     "output_type": "display_data"
    }
   ],
   "source": [
    "## Next let's evaluate how it does as a *Ranking Classifier*\n",
    "from sklearn.metrics import roc_auc_score, roc_curve\n",
    "\n",
    "fpr, tpr, thresholds = roc_curve(y_test,y_prob_pred)\n",
    "plt.plot(fpr, tpr)\n",
    "plt.plot(np.linspace(0,1,100),np.linspace(0,1,100))"
   ]
  },
  {
   "cell_type": "code",
   "execution_count": 18,
   "metadata": {
    "collapsed": false
   },
   "outputs": [
    {
     "data": {
      "text/plain": [
       "0.75462247129598814"
      ]
     },
     "execution_count": 18,
     "metadata": {},
     "output_type": "execute_result"
    }
   ],
   "source": [
    "## Get the area under the curve\n",
    "roc_auc_score(y_test,y_prob_pred)"
   ]
  },
  {
   "cell_type": "code",
   "execution_count": 19,
   "metadata": {
    "collapsed": false
   },
   "outputs": [
    {
     "data": {
      "text/plain": [
       "[<matplotlib.lines.Line2D at 0x110c37b00>]"
      ]
     },
     "execution_count": 19,
     "metadata": {},
     "output_type": "execute_result"
    },
    {
     "data": {
      "image/png": "[encoded data removed]",
      "text/plain": [
       "<matplotlib.figure.Figure at 0x1109b6780>"
      ]
     },
     "metadata": {},
     "output_type": "display_data"
    }
   ],
   "source": [
    "## Plot a precision-recall curve\n",
    "from sklearn.metrics import precision_recall_curve\n",
    "prec, recall, thresholds = precision_recall_curve(y_test,y_prob_pred)\n",
    "plt.plot(prec[0:-1], recall[0:-1])\n",
    "\n",
    "## Note: sklearn incorrectly adds a point at precision=1 and recall = 0\n",
    "## For this reason, I remove the last point when I plot\n"
   ]
  },
  {
   "cell_type": "code",
   "execution_count": 20,
   "metadata": {
    "collapsed": false
   },
   "outputs": [
    {
     "data": {
      "text/plain": [
       "[<matplotlib.lines.Line2D at 0x110d21978>]"
      ]
     },
     "execution_count": 20,
     "metadata": {},
     "output_type": "execute_result"
    },
    {
     "data": {
      "image/png": "[encoded data removed]",
      "text/plain": [
       "<matplotlib.figure.Figure at 0x110532550>"
      ]
     },
     "metadata": {},
     "output_type": "display_data"
    }
   ],
   "source": [
    "## Some people plot them the other way\n",
    "plt.plot(recall[0:-1], prec[0:-1])\n"
   ]
  },
  {
   "cell_type": "code",
   "execution_count": 21,
   "metadata": {
    "collapsed": false
   },
   "outputs": [
    {
     "data": {
      "text/plain": [
       "array([0, 0, 0, ..., 0, 0, 0])"
      ]
     },
     "execution_count": 21,
     "metadata": {},
     "output_type": "execute_result"
    }
   ],
   "source": [
    "## What if we just use sklearn.predict?\n",
    "from sklearn.metrics import confusion_matrix, precision_score, recall_score\n",
    "y_pred_hard = lr_model_1.predict(X_test)\n",
    "y_pred_hard"
   ]
  },
  {
   "cell_type": "code",
   "execution_count": 22,
   "metadata": {
    "collapsed": false
   },
   "outputs": [
    {
     "data": {
      "text/plain": [
       "array([[2404,   29],\n",
       "       [ 544,   23]])"
      ]
     },
     "execution_count": 22,
     "metadata": {},
     "output_type": "execute_result"
    }
   ],
   "source": [
    "# rows are actual 0/1 columns are predicted 0/1\n",
    "\n",
    "confusion_matrix(y_test, y_pred_hard)"
   ]
  },
  {
   "cell_type": "code",
   "execution_count": 23,
   "metadata": {
    "collapsed": false
   },
   "outputs": [
    {
     "data": {
      "text/plain": [
       "(0.44230769230769229, 0.040564373897707229)"
      ]
     },
     "execution_count": 23,
     "metadata": {},
     "output_type": "execute_result"
    }
   ],
   "source": [
    "# This model is terrible: It predicts almost all zeros!\n",
    "# My recall is really low.\n",
    "# But is the model bad?  Or just a bad threshold?\n",
    "\n",
    "precision_score(y_test, y_pred_hard),recall_score(y_test, y_pred_hard)"
   ]
  },
  {
   "cell_type": "code",
   "execution_count": 24,
   "metadata": {
    "collapsed": false
   },
   "outputs": [
    {
     "data": {
      "text/plain": [
       "(0.38033395176252321, 0.36155202821869487)"
      ]
     },
     "execution_count": 24,
     "metadata": {},
     "output_type": "execute_result"
    }
   ],
   "source": [
    "# Let's try another threshold - similar precision, but much higher recall!\n",
    "\n",
    "y_pred_hard_2 = (y_prob_pred>.3).astype(int)\n",
    "precision_score(y_test, y_pred_hard_2),recall_score(y_test, y_pred_hard_2)"
   ]
  },
  {
   "cell_type": "code",
   "execution_count": 25,
   "metadata": {
    "collapsed": false
   },
   "outputs": [
    {
     "data": {
      "text/plain": [
       "[<matplotlib.lines.Line2D at 0x110f0a940>]"
      ]
     },
     "execution_count": 25,
     "metadata": {},
     "output_type": "execute_result"
    },
    {
     "data": {
      "image/png": "[encoded data removed]",
      "text/plain": [
       "<matplotlib.figure.Figure at 0x110df09e8>"
      ]
     },
     "metadata": {},
     "output_type": "display_data"
    }
   ],
   "source": [
    "# How do our probabilistic predictions compare with what the \"right\" answer is?\n",
    "\n",
    "plt.plot(X_test,y_prob_pred, 'r+')\n",
    "plt.plot(x_clean[7000:],y_prob_pred, 'g+', alpha=.1)\n",
    "plt.plot(range(1,6),real_prob_vec,'bo')"
   ]
  },
  {
   "cell_type": "code",
   "execution_count": null,
   "metadata": {
    "collapsed": true
   },
   "outputs": [],
   "source": []
  }
 ],
 "metadata": {
  "kernelspec": {
   "display_name": "Python 3",
   "language": "python",
   "name": "python3"
  },
  "language_info": {
   "codemirror_mode": {
    "name": "ipython",
    "version": 3
   },
   "file_extension": ".py",
   "mimetype": "text/x-python",
   "name": "python",
   "nbconvert_exporter": "python",
   "pygments_lexer": "ipython3",
   "version": "3.5.3"
  }
 },
 "nbformat": 4,
 "nbformat_minor": 0
}
