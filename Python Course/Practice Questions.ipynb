{
 "cells": [
  {
   "cell_type": "markdown",
   "metadata": {},
   "source": [
    "1. Given an array of integers, we would like to determine whether the array is monotonic (non-decreasing/non-increasing) or not. \n",
    "\n",
    "Examples: // 1 2 5 5 8 // true // 9 4 4 2 2 // true // 1 4 6 3 // false //1 1 1 1 1 1 // true"
   ]
  },
  {
   "cell_type": "code",
   "execution_count": null,
   "metadata": {},
   "outputs": [],
   "source": [
    "def q1fn(array):\n",
    "    arraydiff = array[:-1]\n",
    "    for i in range(len(array)-1):\n",
    "        arraydiff[i] = array[i+1] - array[i]\n",
    "    \n",
    "    countpositive = sum(1 for x in arraydiff if x > 0)\n",
    "    countnegative = sum(1 for y in arraydiff if y < 0)\n",
    "    \n",
    "    if (countpositive > 0 and countnegative == 0) or \\\n",
    "       (countnegative > 0 and countpositive == 0) or \\\n",
    "       (countpositive == 0 and countnegative == 0):\n",
    "        return True\n",
    "        \n",
    "    if countnegative > 0 and countpositive > 0:\n",
    "        return False       "
   ]
  },
  {
   "cell_type": "code",
   "execution_count": null,
   "metadata": {},
   "outputs": [],
   "source": [
    "q1fn([1, 2, 5, 5, 8])"
   ]
  },
  {
   "cell_type": "code",
   "execution_count": null,
   "metadata": {},
   "outputs": [],
   "source": [
    "q1fn([9, 4, 4, 2, 2])"
   ]
  },
  {
   "cell_type": "code",
   "execution_count": null,
   "metadata": {},
   "outputs": [],
   "source": [
    "q1fn([1, 4, 6, 3])"
   ]
  },
  {
   "cell_type": "code",
   "execution_count": null,
   "metadata": {},
   "outputs": [],
   "source": [
    "q1fn([1, 1, 1, 1, 1, 1])"
   ]
  },
  {
   "cell_type": "markdown",
   "metadata": {},
   "source": [
    "2. Calculate the average word length. For the given set of words return the average word length.\n"
   ]
  },
  {
   "cell_type": "code",
   "execution_count": null,
   "metadata": {},
   "outputs": [],
   "source": [
    "def q2fn(wordset):\n",
    "    word_len = [len(x) for x in wordset]\n",
    "    return sum(word_len)/len(word_len)"
   ]
  },
  {
   "cell_type": "code",
   "execution_count": null,
   "metadata": {},
   "outputs": [],
   "source": [
    "q2fn(['apple', 'orange', 'tea'])"
   ]
  },
  {
   "cell_type": "code",
   "execution_count": null,
   "metadata": {},
   "outputs": [],
   "source": [
    "def q2fnbasic(wordset):\n",
    "    word_len = []\n",
    "    for i in wordset:\n",
    "        word_len.append(len(i))\n",
    "    return sum(word_len)/len(word_len)"
   ]
  },
  {
   "cell_type": "code",
   "execution_count": null,
   "metadata": {},
   "outputs": [],
   "source": [
    "q2fnbasic(['apple', 'orange', 'tea'])"
   ]
  },
  {
   "cell_type": "markdown",
   "metadata": {},
   "source": [
    "3. Fill the None values in a list with the previous, non-None value.\n",
    "\n",
    "Example: [1,None,1,2,None} --> [1,1,1,2,2] Ensure you take care of case input[None] which means None object.\n",
    "\t"
   ]
  },
  {
   "cell_type": "code",
   "execution_count": null,
   "metadata": {},
   "outputs": [],
   "source": []
  },
  {
   "cell_type": "markdown",
   "metadata": {},
   "source": [
    "4. Returns the number of times a given character occurs in the given string.\n",
    "\n",
    "Example: Find the number of 's' in 'Mississippi'.\n",
    "\t"
   ]
  },
  {
   "cell_type": "code",
   "execution_count": null,
   "metadata": {},
   "outputs": [],
   "source": []
  },
  {
   "cell_type": "markdown",
   "metadata": {},
   "source": [
    "5. Complete a function that returns a list containing all the mismatched words (case sensitive) between two given input strings #\n",
    "\n",
    "Example: # - string 1 : \"Firstly this is the first string\" # - string 2 : \"Next is the second string\" # # - output : ['Firstly', 'this', 'first', 'Next', 'second']."
   ]
  },
  {
   "cell_type": "code",
   "execution_count": null,
   "metadata": {},
   "outputs": [],
   "source": []
  }
 ],
 "metadata": {
  "kernelspec": {
   "display_name": "Python 3",
   "language": "python",
   "name": "python3"
  },
  "language_info": {
   "codemirror_mode": {
    "name": "ipython",
    "version": 3
   },
   "file_extension": ".py",
   "mimetype": "text/x-python",
   "name": "python",
   "nbconvert_exporter": "python",
   "pygments_lexer": "ipython3",
   "version": "3.8.3"
  }
 },
 "nbformat": 4,
 "nbformat_minor": 4
}
