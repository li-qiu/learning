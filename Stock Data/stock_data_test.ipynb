{
 "cells": [
  {
   "cell_type": "code",
   "execution_count": 11,
   "metadata": {},
   "outputs": [],
   "source": [
    "from alpha_vantage.timeseries import TimeSeries\n",
    "import matplotlib.pyplot as plt\n",
    "import seaborn as sns\n",
    "import pandas as pd"
   ]
  },
  {
   "cell_type": "code",
   "execution_count": null,
   "outputs": [],
   "source": [
    "ts = TimeSeries(key='ZWEMWX7WWUOZSJOF', output_format='pandas')"
   ],
   "metadata": {
    "collapsed": false,
    "pycharm": {
     "name": "#%%\n"
    }
   }
  },
  {
   "cell_type": "code",
   "execution_count": null,
   "outputs": [],
   "source": [
    "print(ts)"
   ],
   "metadata": {
    "collapsed": false,
    "pycharm": {
     "name": "#%%\n"
    }
   }
  },
  {
   "cell_type": "code",
   "execution_count": null,
   "outputs": [],
   "source": [
    "df, metadict = ts.get_daily_adjusted(symbol = 'GOOG', outputsize='full')"
   ],
   "metadata": {
    "collapsed": false,
    "pycharm": {
     "name": "#%%\n"
    }
   }
  },
  {
   "cell_type": "code",
   "execution_count": null,
   "outputs": [],
   "source": [
    "df.info()"
   ],
   "metadata": {
    "collapsed": false,
    "pycharm": {
     "name": "#%%\n"
    }
   }
  },
  {
   "cell_type": "code",
   "execution_count": null,
   "outputs": [],
   "source": [
    "df.loc['2020-07-01':'2020-06-15']"
   ],
   "metadata": {
    "collapsed": false,
    "pycharm": {
     "name": "#%%\n"
    }
   }
  },
  {
   "cell_type": "code",
   "execution_count": null,
   "outputs": [],
   "source": [],
   "metadata": {
    "collapsed": false,
    "pycharm": {
     "name": "#%%\n"
    }
   }
  },
  {
   "cell_type": "code",
   "execution_count": 12,
   "metadata": {},
   "outputs": [],
   "source": []
  },
  {
   "cell_type": "code",
   "execution_count": 13,
   "metadata": {},
   "outputs": [
    {
     "name": "stdout",
     "output_type": "stream",
     "text": [
      "<alpha_vantage.timeseries.TimeSeries object at 0x00000273FE64E7C8>\n"
     ]
    }
   ],
   "source": [
    "print(ts)"
   ]
  },
  {
   "cell_type": "code",
   "execution_count": 31,
   "metadata": {},
   "outputs": [],
   "source": [
    "df, metadict = ts.get_daily_adjusted(symbol = 'GOOG', outputsize='full')"
   ]
  },
  {
   "cell_type": "code",
   "execution_count": 32,
   "metadata": {
    "scrolled": true
   },
   "outputs": [
    {
     "name": "stdout",
     "output_type": "stream",
     "text": [
      "<class 'pandas.core.frame.DataFrame'>\n",
      "DatetimeIndex: 1587 entries, 2020-07-15 to 2014-03-27\n",
      "Data columns (total 8 columns):\n",
      " #   Column                Non-Null Count  Dtype  \n",
      "---  ------                --------------  -----  \n",
      " 0   1. open               1587 non-null   float64\n",
      " 1   2. high               1587 non-null   float64\n",
      " 2   3. low                1587 non-null   float64\n",
      " 3   4. close              1587 non-null   float64\n",
      " 4   5. adjusted close     1587 non-null   float64\n",
      " 5   6. volume             1587 non-null   float64\n",
      " 6   7. dividend amount    1587 non-null   float64\n",
      " 7   8. split coefficient  1587 non-null   float64\n",
      "dtypes: float64(8)\n",
      "memory usage: 111.6 KB\n"
     ]
    }
   ],
   "source": [
    "df.info()"
   ]
  },
  {
   "cell_type": "code",
   "execution_count": 33,
   "metadata": {},
   "outputs": [
    {
     "data": {
      "text/html": [
       "<div>\n",
       "<style scoped>\n",
       "    .dataframe tbody tr th:only-of-type {\n",
       "        vertical-align: middle;\n",
       "    }\n",
       "\n",
       "    .dataframe tbody tr th {\n",
       "        vertical-align: top;\n",
       "    }\n",
       "\n",
       "    .dataframe thead th {\n",
       "        text-align: right;\n",
       "    }\n",
       "</style>\n",
       "<table border=\"1\" class=\"dataframe\">\n",
       "  <thead>\n",
       "    <tr style=\"text-align: right;\">\n",
       "      <th></th>\n",
       "      <th>1. open</th>\n",
       "      <th>2. high</th>\n",
       "      <th>3. low</th>\n",
       "      <th>4. close</th>\n",
       "      <th>5. adjusted close</th>\n",
       "      <th>6. volume</th>\n",
       "      <th>7. dividend amount</th>\n",
       "      <th>8. split coefficient</th>\n",
       "    </tr>\n",
       "    <tr>\n",
       "      <th>date</th>\n",
       "      <th></th>\n",
       "      <th></th>\n",
       "      <th></th>\n",
       "      <th></th>\n",
       "      <th></th>\n",
       "      <th></th>\n",
       "      <th></th>\n",
       "      <th></th>\n",
       "    </tr>\n",
       "  </thead>\n",
       "  <tbody>\n",
       "    <tr>\n",
       "      <th>2020-07-01</th>\n",
       "      <td>1411.10</td>\n",
       "      <td>1443.00</td>\n",
       "      <td>1409.82</td>\n",
       "      <td>1438.04</td>\n",
       "      <td>1438.04</td>\n",
       "      <td>1775600.0</td>\n",
       "      <td>0.0</td>\n",
       "      <td>1.0</td>\n",
       "    </tr>\n",
       "    <tr>\n",
       "      <th>2020-06-30</th>\n",
       "      <td>1390.44</td>\n",
       "      <td>1418.65</td>\n",
       "      <td>1383.96</td>\n",
       "      <td>1413.61</td>\n",
       "      <td>1413.61</td>\n",
       "      <td>2042400.0</td>\n",
       "      <td>0.0</td>\n",
       "      <td>1.0</td>\n",
       "    </tr>\n",
       "    <tr>\n",
       "      <th>2020-06-29</th>\n",
       "      <td>1358.18</td>\n",
       "      <td>1395.60</td>\n",
       "      <td>1347.01</td>\n",
       "      <td>1394.97</td>\n",
       "      <td>1394.97</td>\n",
       "      <td>1810200.0</td>\n",
       "      <td>0.0</td>\n",
       "      <td>1.0</td>\n",
       "    </tr>\n",
       "    <tr>\n",
       "      <th>2020-06-26</th>\n",
       "      <td>1431.39</td>\n",
       "      <td>1433.45</td>\n",
       "      <td>1351.99</td>\n",
       "      <td>1359.90</td>\n",
       "      <td>1359.90</td>\n",
       "      <td>4267698.0</td>\n",
       "      <td>0.0</td>\n",
       "      <td>1.0</td>\n",
       "    </tr>\n",
       "    <tr>\n",
       "      <th>2020-06-25</th>\n",
       "      <td>1429.90</td>\n",
       "      <td>1442.90</td>\n",
       "      <td>1420.00</td>\n",
       "      <td>1441.33</td>\n",
       "      <td>1441.33</td>\n",
       "      <td>1230474.0</td>\n",
       "      <td>0.0</td>\n",
       "      <td>1.0</td>\n",
       "    </tr>\n",
       "    <tr>\n",
       "      <th>2020-06-24</th>\n",
       "      <td>1461.51</td>\n",
       "      <td>1475.42</td>\n",
       "      <td>1429.75</td>\n",
       "      <td>1431.97</td>\n",
       "      <td>1431.97</td>\n",
       "      <td>1756022.0</td>\n",
       "      <td>0.0</td>\n",
       "      <td>1.0</td>\n",
       "    </tr>\n",
       "    <tr>\n",
       "      <th>2020-06-23</th>\n",
       "      <td>1455.64</td>\n",
       "      <td>1475.94</td>\n",
       "      <td>1445.24</td>\n",
       "      <td>1464.41</td>\n",
       "      <td>1464.41</td>\n",
       "      <td>1429764.0</td>\n",
       "      <td>0.0</td>\n",
       "      <td>1.0</td>\n",
       "    </tr>\n",
       "    <tr>\n",
       "      <th>2020-06-22</th>\n",
       "      <td>1429.00</td>\n",
       "      <td>1452.75</td>\n",
       "      <td>1423.21</td>\n",
       "      <td>1451.86</td>\n",
       "      <td>1451.86</td>\n",
       "      <td>1542440.0</td>\n",
       "      <td>0.0</td>\n",
       "      <td>1.0</td>\n",
       "    </tr>\n",
       "    <tr>\n",
       "      <th>2020-06-19</th>\n",
       "      <td>1444.00</td>\n",
       "      <td>1447.80</td>\n",
       "      <td>1421.35</td>\n",
       "      <td>1431.72</td>\n",
       "      <td>1431.72</td>\n",
       "      <td>3157875.0</td>\n",
       "      <td>0.0</td>\n",
       "      <td>1.0</td>\n",
       "    </tr>\n",
       "    <tr>\n",
       "      <th>2020-06-18</th>\n",
       "      <td>1449.16</td>\n",
       "      <td>1451.41</td>\n",
       "      <td>1427.01</td>\n",
       "      <td>1435.96</td>\n",
       "      <td>1435.96</td>\n",
       "      <td>1581916.0</td>\n",
       "      <td>0.0</td>\n",
       "      <td>1.0</td>\n",
       "    </tr>\n",
       "    <tr>\n",
       "      <th>2020-06-17</th>\n",
       "      <td>1447.16</td>\n",
       "      <td>1460.00</td>\n",
       "      <td>1431.38</td>\n",
       "      <td>1451.12</td>\n",
       "      <td>1451.12</td>\n",
       "      <td>1549615.0</td>\n",
       "      <td>0.0</td>\n",
       "      <td>1.0</td>\n",
       "    </tr>\n",
       "    <tr>\n",
       "      <th>2020-06-16</th>\n",
       "      <td>1445.22</td>\n",
       "      <td>1455.02</td>\n",
       "      <td>1425.90</td>\n",
       "      <td>1442.72</td>\n",
       "      <td>1442.72</td>\n",
       "      <td>1711614.0</td>\n",
       "      <td>0.0</td>\n",
       "      <td>1.0</td>\n",
       "    </tr>\n",
       "    <tr>\n",
       "      <th>2020-06-15</th>\n",
       "      <td>1390.80</td>\n",
       "      <td>1424.80</td>\n",
       "      <td>1387.92</td>\n",
       "      <td>1419.85</td>\n",
       "      <td>1419.85</td>\n",
       "      <td>1506096.0</td>\n",
       "      <td>0.0</td>\n",
       "      <td>1.0</td>\n",
       "    </tr>\n",
       "  </tbody>\n",
       "</table>\n",
       "</div>"
      ],
      "text/plain": [
       "            1. open  2. high   3. low  4. close  5. adjusted close  6. volume  \\\n",
       "date                                                                            \n",
       "2020-07-01  1411.10  1443.00  1409.82   1438.04            1438.04  1775600.0   \n",
       "2020-06-30  1390.44  1418.65  1383.96   1413.61            1413.61  2042400.0   \n",
       "2020-06-29  1358.18  1395.60  1347.01   1394.97            1394.97  1810200.0   \n",
       "2020-06-26  1431.39  1433.45  1351.99   1359.90            1359.90  4267698.0   \n",
       "2020-06-25  1429.90  1442.90  1420.00   1441.33            1441.33  1230474.0   \n",
       "2020-06-24  1461.51  1475.42  1429.75   1431.97            1431.97  1756022.0   \n",
       "2020-06-23  1455.64  1475.94  1445.24   1464.41            1464.41  1429764.0   \n",
       "2020-06-22  1429.00  1452.75  1423.21   1451.86            1451.86  1542440.0   \n",
       "2020-06-19  1444.00  1447.80  1421.35   1431.72            1431.72  3157875.0   \n",
       "2020-06-18  1449.16  1451.41  1427.01   1435.96            1435.96  1581916.0   \n",
       "2020-06-17  1447.16  1460.00  1431.38   1451.12            1451.12  1549615.0   \n",
       "2020-06-16  1445.22  1455.02  1425.90   1442.72            1442.72  1711614.0   \n",
       "2020-06-15  1390.80  1424.80  1387.92   1419.85            1419.85  1506096.0   \n",
       "\n",
       "            7. dividend amount  8. split coefficient  \n",
       "date                                                  \n",
       "2020-07-01                 0.0                   1.0  \n",
       "2020-06-30                 0.0                   1.0  \n",
       "2020-06-29                 0.0                   1.0  \n",
       "2020-06-26                 0.0                   1.0  \n",
       "2020-06-25                 0.0                   1.0  \n",
       "2020-06-24                 0.0                   1.0  \n",
       "2020-06-23                 0.0                   1.0  \n",
       "2020-06-22                 0.0                   1.0  \n",
       "2020-06-19                 0.0                   1.0  \n",
       "2020-06-18                 0.0                   1.0  \n",
       "2020-06-17                 0.0                   1.0  \n",
       "2020-06-16                 0.0                   1.0  \n",
       "2020-06-15                 0.0                   1.0  "
      ]
     },
     "execution_count": 33,
     "metadata": {},
     "output_type": "execute_result"
    }
   ],
   "source": [
    "df.loc['2020-07-01':'2020-06-15']"
   ]
  },
  {
   "cell_type": "code",
   "execution_count": null,
   "metadata": {},
   "outputs": [],
   "source": []
  }
 ],
 "metadata": {
  "kernelspec": {
   "display_name": "Python 3",
   "language": "python",
   "name": "python3"
  },
  "language_info": {
   "codemirror_mode": {
    "name": "ipython",
    "version": 3
   },
   "file_extension": ".py",
   "mimetype": "text/x-python",
   "name": "python",
   "nbconvert_exporter": "python",
   "pygments_lexer": "ipython3",
   "version": "3.7.6"
  }
 },
 "nbformat": 4,
 "nbformat_minor": 1
}